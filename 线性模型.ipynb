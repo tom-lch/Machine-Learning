{
 "cells": [
  {
   "cell_type": "code",
   "execution_count": 1,
   "metadata": {},
   "outputs": [],
   "source": [
    "# Linear Models"
   ]
  },
  {
   "cell_type": "code",
   "execution_count": 2,
   "metadata": {},
   "outputs": [],
   "source": [
    "# Linear classifiers 线性分类器\n",
    "#1、Logistic回归（又名logit，MaxEnt）分类器。\n",
    "from sklearn.linear_model import LogisticRegression\n",
    "# LogisticRegression(penalty='l2', \n",
    "#                    dual=False, tol=0.0001, \n",
    "#                    C=1.0, \n",
    "#                    fit_intercept=True, \n",
    "#                    intercept_scaling=1, \n",
    "#                    class_weight=None, \n",
    "#                    random_state=None, \n",
    "#                    solver='lbfgs', \n",
    "#                    max_iter=100, \n",
    "#                    multi_class='auto', \n",
    "#                    verbose=0, \n",
    "#                    warm_start=False,\n",
    "#                    n_jobs=None, l1_ratio=None)\n",
    "# >>> from sklearn.datasets import load_iris\n",
    "# >>> from sklearn.linear_model import LogisticRegression\n",
    "# >>> X, y = load_iris(return_X_y=True)\n",
    "# >>> clf = LogisticRegression(random_state=0).fit(X, y)\n",
    "# >>> clf.predict(X[:2, :])\n",
    "# array([0, 0])\n",
    "# >>> clf.predict_proba(X[:2, :])\n",
    "# array([[9.8...e-01, 1.8...e-02, 1.4...e-08],\n",
    "#        [9.7...e-01, 2.8...e-02, ...e-08]])\n",
    "# >>> clf.score(X, y)\n",
    "# 0.97...\n",
    "\n",
    "# 2、Logistic回归CV（又名logit，MaxEnt）分类器。\n",
    "from sklearn.linear_model import LogisticRegressionCV\n",
    "# LogisticRegressionCV(Cs=10, \n",
    "#                      fit_intercept=True, \n",
    "#                      cv=None, \n",
    "#                      dual=False, \n",
    "#                      penalty='l2', \n",
    "#                      scoring=None, \n",
    "#                      solver='lbfgs', \n",
    "#                      tol=0.0001, \n",
    "#                      max_iter=100, \n",
    "#                      class_weight=None, \n",
    "#                      n_jobs=None, \n",
    "#                      verbose=0, \n",
    "#                      refit=True, \n",
    "#                      intercept_scaling=1.0, \n",
    "#                      multi_class='auto', \n",
    "#                      random_state=None, \n",
    "#                      l1_ratios=None)\n",
    "\n",
    "# 3、被动进去分类器\n",
    "from  sklearn.linear_model import PassiveAggressiveClassifier\n"
   ]
  },
  {
   "cell_type": "code",
   "execution_count": 3,
   "metadata": {},
   "outputs": [],
   "source": [
    "# Classical linear regressors 经典线性回归"
   ]
  },
  {
   "cell_type": "code",
   "execution_count": 4,
   "metadata": {},
   "outputs": [],
   "source": [
    "# Regressors with variable selection 变量选择回归"
   ]
  },
  {
   "cell_type": "code",
   "execution_count": 5,
   "metadata": {},
   "outputs": [],
   "source": [
    "# Bayesian regressors 贝叶斯回归"
   ]
  },
  {
   "cell_type": "code",
   "execution_count": 6,
   "metadata": {},
   "outputs": [],
   "source": [
    "# Multi-task linear regressors with variable selection 多任务线性回归变量选择"
   ]
  },
  {
   "cell_type": "code",
   "execution_count": 7,
   "metadata": {},
   "outputs": [],
   "source": [
    "# Outlier-robust regressors 异常健壮的回归"
   ]
  },
  {
   "cell_type": "code",
   "execution_count": 8,
   "metadata": {},
   "outputs": [],
   "source": [
    "# Miscellaneous 杂"
   ]
  },
  {
   "cell_type": "code",
   "execution_count": null,
   "metadata": {},
   "outputs": [],
   "source": []
  }
 ],
 "metadata": {
  "kernelspec": {
   "display_name": "Python 3",
   "language": "python",
   "name": "python3"
  },
  "language_info": {
   "codemirror_mode": {
    "name": "ipython",
    "version": 3
   },
   "file_extension": ".py",
   "mimetype": "text/x-python",
   "name": "python",
   "nbconvert_exporter": "python",
   "pygments_lexer": "ipython3",
   "version": "3.7.5"
  }
 },
 "nbformat": 4,
 "nbformat_minor": 2
}
